{
 "cells": [
  {
   "cell_type": "markdown",
   "id": "1c0f0641-119e-4098-a67c-5783a904f21e",
   "metadata": {},
   "source": [
    "# Data Science Tools and Ecosystem"
   ]
  },
  {
   "cell_type": "markdown",
   "id": "2e2d6a01-17d6-4a01-bb2a-6ab560686123",
   "metadata": {},
   "source": [
    "'In this notebook, Data Science Tools and Ecosystem are summarized.'"
   ]
  },
  {
   "cell_type": "markdown",
   "id": "72f91681-c0a3-4cc4-8dd3-de694f9eecf1",
   "metadata": {},
   "source": [
    "**Objectives:**\n",
    "- List popular languages for Data Science\n",
    "- List libraries used in Data Sciece\n",
    "- List Data Science Tools\n",
    "- Examples of evaluating arithmetic expressions in Python"
   ]
  },
  {
   "cell_type": "markdown",
   "id": "47000141-cd7a-4d76-add6-4d18e9738584",
   "metadata": {},
   "source": [
    "'Some of the popular languages that Data Scientists use are:'\n",
    "1. Python\n",
    "2. Java\n",
    "3. C++\n",
    "4. Julia\n",
    "5. SQL"
   ]
  },
  {
   "attachments": {},
   "cell_type": "markdown",
   "id": "47a47f8d-5a07-4faf-a039-c878f57d4deb",
   "metadata": {},
   "source": [
    "'Some of the commonly used libraries used by Data Scientists include:'\n",
    "1. pandas (data manipulation)\n",
    "2. NumPy (numerical computing)\n",
    "3. scikit-learn (machine learning)\n",
    "4. ggplot2 (visualization)"
   ]
  },
  {
   "cell_type": "markdown",
   "id": "0bc6baca-31d2-4eb9-8be4-9d677d86acb4",
   "metadata": {},
   "source": [
    "|Data Science Tools|\n",
    "|------------------|\n",
    "| RStudio |\n",
    "| Jupyter Notebook |\n",
    "| VS Code |"
   ]
  },
  {
   "cell_type": "markdown",
   "id": "a21365e1-4c4c-4948-b97c-759f315f3c9d",
   "metadata": {},
   "source": [
    "### Below are a few examples of evaluating arithmetic expressions in Python"
   ]
  },
  {
   "cell_type": "code",
   "execution_count": 24,
   "id": "fd86fbf7-a8f7-4d00-bcdb-52f5cd688c90",
   "metadata": {},
   "outputs": [
    {
     "data": {
      "text/plain": [
       "17"
      ]
     },
     "execution_count": 24,
     "metadata": {},
     "output_type": "execute_result"
    }
   ],
   "source": [
    "# This a simple arithmetic expression to mutiply then add integers\n",
    "(3*4)+5"
   ]
  },
  {
   "cell_type": "code",
   "execution_count": 25,
   "id": "fc6e88d9-432e-4628-acbd-9e467f14d2e9",
   "metadata": {},
   "outputs": [
    {
     "data": {
      "text/plain": [
       "3.3333333333333335"
      ]
     },
     "execution_count": 25,
     "metadata": {},
     "output_type": "execute_result"
    }
   ],
   "source": [
    "# This will convert 200 minutes to hours by diving by 60\n",
    "200/60"
   ]
  },
  {
   "cell_type": "markdown",
   "id": "da2340e4-c0a3-4d96-b8ba-8e93ad694c91",
   "metadata": {},
   "source": [
    "## Author\n",
    "Batiuk Viktoria"
   ]
  }
 ],
 "metadata": {
  "kernelspec": {
   "display_name": "Python 3 (ipykernel)",
   "language": "python",
   "name": "python3"
  },
  "language_info": {
   "codemirror_mode": {
    "name": "ipython",
    "version": 3
   },
   "file_extension": ".py",
   "mimetype": "text/x-python",
   "name": "python",
   "nbconvert_exporter": "python",
   "pygments_lexer": "ipython3",
   "version": "3.12.7"
  }
 },
 "nbformat": 4,
 "nbformat_minor": 5
}
